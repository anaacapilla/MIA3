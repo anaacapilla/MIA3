{
  "nbformat": 4,
  "nbformat_minor": 0,
  "metadata": {
    "colab": {
      "name": "custom_training.ipynb",
      "provenance": [],
      "collapsed_sections": [],
      "include_colab_link": true
    },
    "kernelspec": {
      "name": "python3",
      "display_name": "Python 3"
    }
  },
  "cells": [
    {
      "cell_type": "markdown",
      "metadata": {
        "id": "view-in-github",
        "colab_type": "text"
      },
      "source": [
        "<a href=\"https://colab.research.google.com/github/anaacapilla/MIA3/blob/main/custom_training.ipynb\" target=\"_parent\"><img src=\"https://colab.research.google.com/assets/colab-badge.svg\" alt=\"Open In Colab\"/></a>"
      ]
    },
    {
      "cell_type": "markdown",
      "metadata": {
        "id": "edITvB3Rcwzg"
      },
      "source": [
        "# Entrenamiento personalizado\n",
        "Esta guía usa *machine learning* para predecir la progresión de la diabetes después un año. Utiliza TensorFlow para:\n",
        "1. Construir un modelo\n",
        "2. Entrenar este modelo en datos de ejemplo\n",
        "3. Usa el modelo para hacer predicciones en datos desconocidos\n",
        "\n",
        "Este tutorial está estructurado de la siguiente manera:\n",
        "\n",
        "1. Importación y análisis del conjunto de datos.\n",
        "2. Selección del tipo de modelo.\n",
        "3. Entrenamiento del modelo.\n",
        "4. Evaluación de la efectividad del modelo.\n",
        "5. Uso del modelo entrenado para hacer predicciones."
      ]
    },
    {
      "cell_type": "markdown",
      "metadata": {
        "id": "-fNC05dSeOtR"
      },
      "source": [
        "## Preparación del programa"
      ]
    },
    {
      "cell_type": "markdown",
      "metadata": {
        "id": "wxGUGUC1eayp"
      },
      "source": [
        "### Configuración de los *imports*\n",
        "\n",
        "Importa TensorFlow y los demás módulos de Python necesarios. De forma predeterminada, TensorFlow usa una *eager execution* para evaluar las operaciones de inmediato, y muestra valores concretos en lugar de crear un gráfico computacional que se ejecuta más tarde. Si estás acostumbrado la consola interactiva de python , esto te resultará familiar."
      ]
    },
    {
      "cell_type": "code",
      "metadata": {
        "id": "__DxI-veenPd"
      },
      "source": [
        "import matplotlib.pyplot as plt\n",
        "import tensorflow as tf\n",
        "from sklearn import datasets\n",
        "from sklearn.model_selection import train_test_split\n",
        "from math import ceil\n",
        "import numpy as np"
      ],
      "execution_count": 1,
      "outputs": []
    },
    {
      "cell_type": "code",
      "metadata": {
        "id": "0A6-EF-0eyOl",
        "colab": {
          "base_uri": "https://localhost:8080/"
        },
        "outputId": "b1b46b3e-823b-49f1-a391-f93c32f5b13d"
      },
      "source": [
        "print(\"TensorFlow version: {}\".format(tf.__version__))\n",
        "# print(\"Eager execution: {}\".format(tf.executing_eagerly()))"
      ],
      "execution_count": 2,
      "outputs": [
        {
          "output_type": "stream",
          "name": "stdout",
          "text": [
            "TensorFlow version: 2.7.0\n"
          ]
        }
      ]
    },
    {
      "cell_type": "markdown",
      "metadata": {
        "id": "_zgYLCXAe5BS"
      },
      "source": [
        "## Problema de regresión *Diabetes*\n",
        "\n",
        "Este conjunto de datos contiene 10 variables descriptivas edad, sexo, índice de masa corporal, presión sanguínea promedio, y seis mediciones de suero sanguíneo tomadas para cada uno de los 442 pacientes con diabetes. Además, contiene la variable de interés a predecir, una medida cuantitavita de la progresión de la enferemedad un año después del inicio.\n",
        "\n",
        "### Características del conjunto de datos\n",
        "\n",
        "\n",
        "*   Número de instancias: 442\n",
        "*   Número de atributos: Las 10 primeras columnas son valores predictivos numéricos\n",
        "\n",
        "*   Variable objetivo: La columna 11 es una medida cuantitativa de la progresión de la enfermedad después de un año\n",
        "*   Elemento de lista\n",
        "\n",
        "### Información de los atributos:\n",
        "\n",
        "       - age: edad en años\n",
        "       - sex\n",
        "       - bmi: índice de masa corporal\n",
        "       - bp: presión arterial media\n",
        "       - s1 tc, células T (un tipo de glóbulos blancos)\n",
        "       - s2 ldl, lipoproteínas de baja densidad\n",
        "       - s3 hdl, lipoproteínas de alta densidad\n",
        "       - s4 tch, hormona estimulante de la tiroides\n",
        "       - s5 ltg, lamotrigina\n",
        "       - glu s6, nivel de azúcar en sangre\n",
        "\n",
        "\n",
        "Nota: Cada una de estas 10 variables se ha centrado en la media y se ha escalado por la desviación estándar.\n",
        "\n",
        "\n"
      ]
    },
    {
      "cell_type": "markdown",
      "metadata": {
        "id": "nEARuhjNjGwD"
      },
      "source": [
        "## Importación y preparación del conjunto de datos\n"
      ]
    },
    {
      "cell_type": "markdown",
      "metadata": {
        "id": "uFb1Vop8jbLQ"
      },
      "source": [
        "### Carga del conjunto de datos"
      ]
    },
    {
      "cell_type": "code",
      "metadata": {
        "id": "nJ9YXYj2ikOR"
      },
      "source": [
        "diabetes = datasets.load_diabetes()\n",
        "features, labels = diabetes.data, diabetes.target"
      ],
      "execution_count": 7,
      "outputs": []
    },
    {
      "cell_type": "code",
      "metadata": {
        "colab": {
          "base_uri": "https://localhost:8080/"
        },
        "id": "p8Ar5QnhfkcD",
        "outputId": "106a7bc6-7e2a-4ac8-968d-75ef5ca6a875"
      },
      "source": [
        "features"
      ],
      "execution_count": 8,
      "outputs": [
        {
          "output_type": "execute_result",
          "data": {
            "text/plain": [
              "array([[ 0.03807591,  0.05068012,  0.06169621, ..., -0.00259226,\n",
              "         0.01990842, -0.01764613],\n",
              "       [-0.00188202, -0.04464164, -0.05147406, ..., -0.03949338,\n",
              "        -0.06832974, -0.09220405],\n",
              "       [ 0.08529891,  0.05068012,  0.04445121, ..., -0.00259226,\n",
              "         0.00286377, -0.02593034],\n",
              "       ...,\n",
              "       [ 0.04170844,  0.05068012, -0.01590626, ..., -0.01107952,\n",
              "        -0.04687948,  0.01549073],\n",
              "       [-0.04547248, -0.04464164,  0.03906215, ...,  0.02655962,\n",
              "         0.04452837, -0.02593034],\n",
              "       [-0.04547248, -0.04464164, -0.0730303 , ..., -0.03949338,\n",
              "        -0.00421986,  0.00306441]])"
            ]
          },
          "metadata": {},
          "execution_count": 8
        }
      ]
    },
    {
      "cell_type": "markdown",
      "metadata": {
        "id": "4TpZElu3kcPW"
      },
      "source": [
        "\n",
        "### Partición del conjunto de datos en Entrenamiento, Validación y Test"
      ]
    },
    {
      "cell_type": "markdown",
      "metadata": {
        "id": "sUMltuPyktDc"
      },
      "source": [
        "A continuación vamos a separar nuestro conjunto de datos en 3 conjuntos distintos (entrenamiento, validación y test). Para ello utiliza el método `tain_test_split` de la librería *sklearn*. Para garantizar aleatoriedad en las particiones, mezcla de manera aleatoria las muestras. Para llevar a cabo las particiones, mantén un 70% de los datos para el conjunto de entrenamiento y un 15% tanto para el de validación como para el de test."
      ]
    },
    {
      "cell_type": "code",
      "metadata": {
        "id": "xOqDoRavl3Vf"
      },
      "source": [
        "x_train,x_test,y_train,y_test = train_test_split(features,\n",
        "                                                 labels,\n",
        "                                                 test_size=0.3,\n",
        "                                                 random_state=42,\n",
        "                                                 shuffle=True)"
      ],
      "execution_count": 10,
      "outputs": []
    },
    {
      "cell_type": "code",
      "metadata": {
        "id": "k9FpbgPEgcOB"
      },
      "source": [
        "x_val,x_test,y_val,y_test = train_test_split(x_test,y_test,\n",
        "                                             test_size=.5,\n",
        "                                             random_state=42,\n",
        "                                             shuffle=True)"
      ],
      "execution_count": 13,
      "outputs": []
    },
    {
      "cell_type": "markdown",
      "metadata": {
        "id": "A7bvfd-1oGrZ"
      },
      "source": [
        "A continuación vamos a estandarizar los datos. Como ya se ha comentado anteriormente, no sería necesarario ya que los datos ya vienen estandarizados al cargarlos. No obstante, a modo de ejercicio, estandariza los datos manualmente, sin ayuda de librerías externas siguiendo la siguiente fórmula:\n",
        "\n",
        "$$x_{norm}=\\frac{x-\\mu}{\\sigma}$$\n",
        "\n",
        "Dónde $\\mu$ es la media y $\\sigma$ las desviación estandar."
      ]
    },
    {
      "cell_type": "code",
      "metadata": {
        "id": "1YntG_d1hWRw"
      },
      "source": [
        "x_train_norm = (x_train-np.mean(x_train,0))/np.std(x_train,0)\n",
        "x_val_norm = (x_val-np.mean(x_val,0))/np.std(x_val,0)\n",
        "x_test_norm = (x_test-np.mean(x_test,0))/np.std(x_test,0)\n",
        "\n",
        "y_train_norm = (y_train-np.mean(y_train,0))/np.std(y_train,0)\n",
        "y_val_norm = (y_val-np.mean(y_val,0))/np.std(y_val,0)\n",
        "y_test_norm = (y_test-np.mean(y_test,0))/np.std(y_test,0)"
      ],
      "execution_count": 15,
      "outputs": []
    },
    {
      "cell_type": "markdown",
      "metadata": {
        "id": "NjLd7HVZqbm3"
      },
      "source": [
        "A continuación, utiliza el método `tf.data.Dataset.from_tensor_slices` para convertir tus datos a tensores."
      ]
    },
    {
      "cell_type": "code",
      "metadata": {
        "id": "fAJo8BIiqqth"
      },
      "source": [
        "train_dataset = tf.data.Dataset.from_tensor_slices((x_train_norm,y_train_norm))\n",
        "val_dataset = tf.data.Dataset.from_tensor_slices((x_val_norm,y_val_norm))\n",
        "test_dataset = tf.data.Dataset.from_tensor_slices((x_test_norm,y_test_norm))"
      ],
      "execution_count": 17,
      "outputs": []
    },
    {
      "cell_type": "markdown",
      "metadata": {
        "id": "gu_Pq1xPqriy"
      },
      "source": [
        "El objeto que te devuelve para cada uno de tus conjuntos de datos es de tipo `TensorSliceDataset`. Éste, tiene métodos interesantes para poder generar *batches* para entrenar la red neuronal. Echa un vistazo a la [API](https://www.tensorflow.org/api_docs/python/tf/data/Dataset) para ver los métdos que pueden resultar útiles. Te diré como pista que queremos \"barajar\" los datos después de cada iteración. Además queremos dividir los datos en *batches*, y mantener siempre el mismo tamaño de *batch* (incluso el último, aunque la longitud de nuestros datos entre la longitud del *batch* no sea un número entero). Además, pégale un vistazo a la opicón *cache*. Para este ejercicio puede no ser necesaria pero para otra clase de problemas puede ser muy útil."
      ]
    },
    {
      "cell_type": "code",
      "metadata": {
        "id": "jCw1spF1tAgq"
      },
      "source": [
        "BATCH_SIZE = 32\n",
        "\n",
        "train_dataset = (train_dataset.cache()\n",
        "                  .shuffle(len(x_train),reshuffle_each_iteration=True)\n",
        "                  .repeat()\n",
        "                  .batch(BATCH_SIZE)\n",
        "                  .take(ceil(len(x_train)/ BATCH_SIZE))\n",
        "                 )\n",
        "\n",
        "val_dataset = (val_dataset.cache()\n",
        "                  .shuffle(len(x_train),reshuffle_each_iteration=True)\n",
        "                  .repeat()\n",
        "                  .batch(BATCH_SIZE)\n",
        "                  .take(ceil(len(x_train)/ BATCH_SIZE))\n",
        "                 )"
      ],
      "execution_count": 18,
      "outputs": []
    },
    {
      "cell_type": "markdown",
      "metadata": {
        "id": "oS_CcalGt60U"
      },
      "source": [
        "## Creación y entrenamiento del Modelo Neuronal\n"
      ]
    },
    {
      "cell_type": "markdown",
      "metadata": {
        "id": "LbykUSKPtIuv"
      },
      "source": [
        "En este apartado vamos a crear y entrenar un Perceptron Multicapa. A continuación crea dicho modelo neuronal utilizando *layers* de *Keras*. Puedes utilizar tanto la api secuencial como la funcional. Crea un modelo con una capa oculta. No te preocupes por el número de neuronas, vamos a ir jugando para ver como varían los resultados en función de este parámetro."
      ]
    },
    {
      "cell_type": "code",
      "metadata": {
        "id": "qi12qK3ZsW9C"
      },
      "source": [
        "from tensorflow.keras import models, Sequential\n",
        "from tensorflow.keras.layers import Flatten,Dense,Dropout"
      ],
      "execution_count": 23,
      "outputs": []
    },
    {
      "cell_type": "code",
      "metadata": {
        "id": "_WpWzSXMmj8V"
      },
      "source": [
        "DATASET_COLUMNS = diabetes.data.shape[1]\n",
        "\n",
        "model = Sequential([    \n",
        "                    Dense(300,activation = tf.nn.relu, input_shape=(DATASET_COLUMNS,)),\n",
        "                    Dense(300,activation = tf.nn.relu),\n",
        "                    Dense(1,activation=\"linear\")\n",
        "                    ])"
      ],
      "execution_count": 26,
      "outputs": []
    },
    {
      "cell_type": "markdown",
      "metadata": {
        "id": "4Xk2lODltx2_"
      },
      "source": [
        "A continuación vamos a crear nuestra función de pérdidas ¿Qué tipo de loss utilizarías para este problema? Utiliza las classe disponibles en la api de *keras* y después crea una función que devuelva el *loss* teniendo como parámetros de entrada los datos de entrada a la red y la variable de salida conocida. Ten en cuenta que para calcular el *loss*, deberás calcular la salida del modelo para dicha entrada."
      ]
    },
    {
      "cell_type": "code",
      "metadata": {
        "id": "ZX6GR8ngv983"
      },
      "source": [
        "loss_object = tf.keras.losses.MeanSquaredError()\n"
      ],
      "execution_count": 27,
      "outputs": []
    },
    {
      "cell_type": "code",
      "metadata": {
        "id": "ruz2yQnEv68B"
      },
      "source": [
        "def loss(x, y):\n",
        "   y_ = model(x,training=True)\n",
        "   return loss_object(y_true=y,y_pred=y_)"
      ],
      "execution_count": 28,
      "outputs": []
    },
    {
      "cell_type": "markdown",
      "metadata": {
        "id": "ygAZZkDowFIj"
      },
      "source": [
        "A continuación vamos a crear los pasos de entrenamiento y validación de manera manual. El proceso para entrenar y validar una red es el siguiente. Se coje un *batch* del conjunto de datos de entrenamiento, se entrena la red y se calcula el *loss*. Este *loss* se va acumulando hasta que acaba la época para tener una metrica que varía en cada época. Con el conjunto de validación se hace lo mismo, solo que no se entrena (no se actualizan los pesos de la red) con ellos, solamente calculamos el error en este conjunto. Es decir, estos datos se utilizan para ver como evoluciona el error de la red durante el entrenamiento para datos que nunca ha visto antes. Por ello, en el paso de validación no se ha de actualiar los pesos, es decir, solamente se hará el *forward pass* y se evitará el *backward pass*.\n",
        "\n",
        "<br><rb>\n",
        "Tal y como se ha comentado anteriormente, en el proceso de entrenamiento se actualizan los pesos, por lo que se han de calcular los gradientes. [Aquí](https://www.tensorflow.org/api_docs/python/tf/GradientTape) tienes ayuda de como calcular los gradientes:"
      ]
    },
    {
      "cell_type": "code",
      "metadata": {
        "id": "7rLHNn63xXII"
      },
      "source": [
        "def train_step(inputs, labels):\n",
        "    with tf.GradientTape() as tape:\n",
        "      loss_value = loss(inputs,labels)\n",
        "      gradients = tape.gradient(loss_value, model.trainable_variables)\n",
        "      optimizer.apply_gradients(zip(gradients, model.trainable_variables))\n",
        "    return loss_value"
      ],
      "execution_count": 29,
      "outputs": []
    },
    {
      "cell_type": "markdown",
      "metadata": {
        "id": "8NCBr398ykaA"
      },
      "source": [
        "A continuación calcularemos el `val_step`, este es más fácil todavía, recuerda que en este paso no hay cálulo de gradientes ni retropropagación de los mismos a través de la red:"
      ]
    },
    {
      "cell_type": "code",
      "metadata": {
        "id": "qg-IE6XMy0VW"
      },
      "source": [
        "def val_step(inputs, labels):\n",
        "     loss_value = loss(inputs,labels)\n",
        "     return loss_value"
      ],
      "execution_count": 30,
      "outputs": []
    },
    {
      "cell_type": "markdown",
      "metadata": {
        "id": "WNN907Lhy2a7"
      },
      "source": [
        "A continuación crearemos el optimizador. Utiliza el *Stocasthic Gradient Descent* disponible en la librería de *Keras*."
      ]
    },
    {
      "cell_type": "code",
      "metadata": {
        "id": "4IctLS3eze4b"
      },
      "source": [
        "optimizer = tf.keras.optimizers.SGD(learning_rate=0.01)"
      ],
      "execution_count": 31,
      "outputs": []
    },
    {
      "cell_type": "markdown",
      "metadata": {
        "id": "qGmSlNbRzj--"
      },
      "source": [
        "A continuación, crea el proceso de entrenamiento. El proceso es similar al del ejercicio anterior, dónde se crearon *batches* de nuestro conjunto de datos para ir pasándoselos a la red por lotes. Ten en cuenta que en este caso, los lotes están creados internamente en objeto de datos de tipo `TensorSliceDataset` que has creado. Este objeto es un iterable, así que puedes utilizarlo en un bucle `for` para que te vaya devolviendo *batches*. Por lo tanto, necesitarás 2 bucles `for`. El primero iterará sobre un número de iteraciones (épocas), y el segundo sobre los *batches*. Se pasará cada *batch* a la red para realizar el entrenamiento (con el método que has creado `train_step`). Además necesitas crear las métricas a utilizar. Despúes de pasar por la red cada *batch* calcularemos el *loss* promedio. Para ello utiliza `tf.keras.metrics.Mean()`. Has de realizar el mismo proceso pero utilizando el método `val_step`.\n",
        "\n",
        "<br><rb>\n",
        "\n",
        "Imprime los resultados por pantalla (cada 5 épocas)\n"
      ]
    },
    {
      "cell_type": "code",
      "metadata": {
        "id": "9gHPjfA4322t",
        "colab": {
          "base_uri": "https://localhost:8080/"
        },
        "outputId": "4a55b52a-4b5d-4b65-bf6f-308b80a89500"
      },
      "source": [
        "train_loss_results = []\n",
        "val_loss_results = []\n",
        "\n",
        "num_epochs = 200\n",
        "\n",
        "for epoch in range(num_epochs):\n",
        "    epoch_train_loss_avg = tf.keras.metrics.Mean()\n",
        "    epoch_val_loss_avg = tf.keras.metrics.Mean()\n",
        "\n",
        "    # Training loss - using batches of 32\n",
        "    for n_sample, (x, y) in enumerate(train_dataset): # Optimize the model\n",
        "        train_loss = train_step(x,y)\n",
        "        # Track progress\n",
        "        epoch_train_loss_avg.update_state(train_loss) # Add current batch loss\n",
        "\n",
        "    for x, y in val_dataset:\n",
        "        val_loss = val_step(x,y)\n",
        "        epoch_val_loss_avg.update_state(val_loss) # Add current batch loss\n",
        "      \n",
        "    # End epoch\n",
        "    train_loss_results.append(epoch_train_loss_avg.result())\n",
        "    val_loss_results.append(epoch_val_loss_avg.result())\n",
        "\n",
        "    if epoch % 5 == 0:\n",
        "       print(\"Epoch {:03d}: Training Loss: {:.3f}, Val Loss: {:.3f}, \".format(epoch,\n",
        "                                                                              epoch_train_loss_avg.result(),\n",
        "                                                                              epoch_val_loss_avg.result()))"
      ],
      "execution_count": 32,
      "outputs": [
        {
          "output_type": "stream",
          "name": "stdout",
          "text": [
            "Epoch 000: Training Loss: 0.932, Val Loss: 0.786, \n",
            "Epoch 005: Training Loss: 0.509, Val Loss: 0.519, \n",
            "Epoch 010: Training Loss: 0.454, Val Loss: 0.484, \n",
            "Epoch 015: Training Loss: 0.424, Val Loss: 0.463, \n",
            "Epoch 020: Training Loss: 0.415, Val Loss: 0.443, \n",
            "Epoch 025: Training Loss: 0.407, Val Loss: 0.433, \n",
            "Epoch 030: Training Loss: 0.397, Val Loss: 0.420, \n",
            "Epoch 035: Training Loss: 0.389, Val Loss: 0.420, \n",
            "Epoch 040: Training Loss: 0.382, Val Loss: 0.413, \n",
            "Epoch 045: Training Loss: 0.369, Val Loss: 0.407, \n",
            "Epoch 050: Training Loss: 0.361, Val Loss: 0.403, \n",
            "Epoch 055: Training Loss: 0.355, Val Loss: 0.405, \n",
            "Epoch 060: Training Loss: 0.349, Val Loss: 0.401, \n",
            "Epoch 065: Training Loss: 0.344, Val Loss: 0.397, \n",
            "Epoch 070: Training Loss: 0.338, Val Loss: 0.398, \n",
            "Epoch 075: Training Loss: 0.328, Val Loss: 0.394, \n",
            "Epoch 080: Training Loss: 0.323, Val Loss: 0.394, \n",
            "Epoch 085: Training Loss: 0.311, Val Loss: 0.394, \n",
            "Epoch 090: Training Loss: 0.306, Val Loss: 0.396, \n",
            "Epoch 095: Training Loss: 0.309, Val Loss: 0.387, \n",
            "Epoch 100: Training Loss: 0.301, Val Loss: 0.395, \n",
            "Epoch 105: Training Loss: 0.289, Val Loss: 0.396, \n",
            "Epoch 110: Training Loss: 0.283, Val Loss: 0.389, \n",
            "Epoch 115: Training Loss: 0.281, Val Loss: 0.389, \n",
            "Epoch 120: Training Loss: 0.279, Val Loss: 0.387, \n",
            "Epoch 125: Training Loss: 0.272, Val Loss: 0.383, \n",
            "Epoch 130: Training Loss: 0.266, Val Loss: 0.382, \n",
            "Epoch 135: Training Loss: 0.263, Val Loss: 0.392, \n",
            "Epoch 140: Training Loss: 0.255, Val Loss: 0.390, \n",
            "Epoch 145: Training Loss: 0.248, Val Loss: 0.390, \n",
            "Epoch 150: Training Loss: 0.244, Val Loss: 0.389, \n",
            "Epoch 155: Training Loss: 0.235, Val Loss: 0.382, \n",
            "Epoch 160: Training Loss: 0.232, Val Loss: 0.387, \n",
            "Epoch 165: Training Loss: 0.222, Val Loss: 0.385, \n",
            "Epoch 170: Training Loss: 0.224, Val Loss: 0.387, \n",
            "Epoch 175: Training Loss: 0.217, Val Loss: 0.387, \n",
            "Epoch 180: Training Loss: 0.216, Val Loss: 0.390, \n",
            "Epoch 185: Training Loss: 0.208, Val Loss: 0.390, \n",
            "Epoch 190: Training Loss: 0.200, Val Loss: 0.380, \n",
            "Epoch 195: Training Loss: 0.194, Val Loss: 0.384, \n"
          ]
        }
      ]
    },
    {
      "cell_type": "markdown",
      "metadata": {
        "id": "xTj6Jiei33BZ"
      },
      "source": [
        "Dibuja el error de entrenamiento y el de validación en una figura."
      ]
    },
    {
      "cell_type": "code",
      "metadata": {
        "id": "ph4dQ3aV4BM4",
        "colab": {
          "base_uri": "https://localhost:8080/",
          "height": 282
        },
        "outputId": "96b96f17-4c1b-4130-cb69-ec25c256d39d"
      },
      "source": [
        "plt.plot(np.arange(len(train_loss_results)).tolist(), train_loss_results,label=\"Loss Train\")\n",
        "plt.plot(np.arange(len(val_loss_results)).tolist(), val_loss_results,label=\"Loss Validation\")\n",
        "plt.legend()"
      ],
      "execution_count": 36,
      "outputs": [
        {
          "output_type": "execute_result",
          "data": {
            "text/plain": [
              "<matplotlib.legend.Legend at 0x7fd8c4370690>"
            ]
          },
          "metadata": {},
          "execution_count": 36
        },
        {
          "output_type": "display_data",
          "data": {
            "image/png": "[encoded data removed]",
            "text/plain": [
              "<Figure size 432x288 with 1 Axes>"
            ]
          },
          "metadata": {
            "needs_background": "light"
          }
        }
      ]
    },
    {
      "cell_type": "code",
      "metadata": {
        "id": "igZezX-duxvq"
      },
      "source": [
        ""
      ],
      "execution_count": null,
      "outputs": []
    }
  ]
}